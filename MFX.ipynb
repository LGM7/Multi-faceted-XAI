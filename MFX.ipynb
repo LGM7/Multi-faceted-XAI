{
  "cells": [
    {
      "cell_type": "code",
      "execution_count": null,
      "metadata": {
        "id": "S9bmZRwYwplD"
      },
      "outputs": [],
      "source": [
        "pip install explainerDashboard"
      ]
    },
    {
      "cell_type": "code",
      "execution_count": null,
      "metadata": {
        "id": "tOaJATKCfo9y"
      },
      "outputs": [],
      "source": [
        "#libraries\n",
        "import numpy as np \n",
        "import pandas as pd \n",
        "import os\n",
        "import seaborn as sns \n",
        "import matplotlib.pyplot as plt\n",
        "%matplotlib inline\n",
        "plt.style.use('ggplot')\n",
        "import time\n",
        "import datetime\n",
        "\n",
        "\n",
        "from sklearn.preprocessing import LabelEncoder\n",
        "from sklearn.model_selection import StratifiedKFold, KFold, TimeSeriesSplit\n",
        "from sklearn.metrics import mean_squared_error, roc_auc_score\n",
        "from sklearn.linear_model import LogisticRegression, LogisticRegressionCV\n",
        "import gc\n",
        "from tqdm import tqdm_notebook\n",
        "import plotly.offline as py\n",
        "py.init_notebook_mode(connected=True)\n",
        "import plotly.graph_objs as go\n",
        "import plotly.tools as tls\n",
        "\n",
        "import warnings\n",
        "warnings.filterwarnings(\"ignore\")\n",
        "\n",
        "#import logging\n",
        "\n",
        "#logging.basicConfig(filename='log.txt',level=logging.DEBUG, format='%(asctime)s %(message)s')\n",
        "\n",
        "pd.set_option('max_colwidth', 500)\n",
        "pd.set_option('max_columns', 500)\n",
        "pd.set_option('max_rows', 100)\n"
      ]
    },
    {
      "cell_type": "code",
      "source": [
        "from explainerdashboard import ClassifierExplainer, ExplainerDashboard"
      ],
      "metadata": {
        "id": "ITzC8y6e1jgW"
      },
      "execution_count": null,
      "outputs": []
    },
    {
      "cell_type": "code",
      "source": [
        "from dash import Dash, html, dcc, dash_table"
      ],
      "metadata": {
        "id": "Ze52OFzZE936"
      },
      "execution_count": null,
      "outputs": []
    },
    {
      "cell_type": "code",
      "execution_count": null,
      "metadata": {
        "id": "awjmb3I9iNNW"
      },
      "outputs": [],
      "source": [
        "import plotly \n",
        "import plotly.express as px\n",
        "import plotly.graph_objs as go\n",
        "import plotly.offline as py\n",
        "from plotly.offline import iplot, init_notebook_mode\n",
        "from plotly.subplots import make_subplots\n",
        "import plotly.figure_factory as ff\n",
        "import random"
      ]
    },
    {
      "cell_type": "code",
      "execution_count": null,
      "metadata": {
        "id": "d6aBDbN0iGxr"
      },
      "outputs": [],
      "source": [
        "def configure_plotly_browser_state():\n",
        "  import IPython\n",
        "  display(IPython.core.display.HTML('''\n",
        "  <script src=\"/static/components/requirejs/require.js\"></script>\n",
        "  <script>\n",
        "    requirejs.config({\n",
        "      paths: {\n",
        "        base: '/static/base',\n",
        "        plotly: 'https://cdn.plot.ly/plotly-1.5.1.min.js?noext',\n",
        "      },\n",
        "    });\n",
        "  '''))"
      ]
    },
    {
      "cell_type": "code",
      "execution_count": null,
      "metadata": {
        "id": "QrC5BQtR6A0Z"
      },
      "outputs": [],
      "source": [
        "import random\n"
      ]
    },
    {
      "cell_type": "code",
      "execution_count": null,
      "metadata": {
        "id": "v-MPlFsALVlv"
      },
      "outputs": [],
      "source": [
        "from IPython.core.interactiveshell import InteractiveShell\n",
        "InteractiveShell.ast_node_interactivity = \"all\""
      ]
    },
    {
      "cell_type": "code",
      "execution_count": null,
      "metadata": {
        "id": "Eb5t-gLC-9cH"
      },
      "outputs": [],
      "source": [
        "from google.colab import drive\n",
        "\n",
        "drive.mount('/content/gdrive', force_remount=True)"
      ]
    },
    {
      "cell_type": "code",
      "execution_count": null,
      "metadata": {
        "id": "G4MyVk42AhoW"
      },
      "outputs": [],
      "source": [
        "!unzip '/content/gdrive/MyDrive/Data/microsoft-malware-prediction.zip'"
      ]
    },
    {
      "cell_type": "code",
      "execution_count": null,
      "metadata": {
        "id": "Bc62reONfo91"
      },
      "outputs": [],
      "source": [
        "\n",
        "dtypes = {\n",
        "        'MachineIdentifier':                                    'category',\n",
        "        'ProductName':                                          'category',\n",
        "        'EngineVersion':                                        'category',\n",
        "        'AppVersion':                                           'category',\n",
        "        'AvSigVersion':                                         'category',\n",
        "        'IsBeta':                                               'int8',\n",
        "        'RtpStateBitfield':                                     'float16',\n",
        "        'IsSxsPassiveMode':                                     'int8',\n",
        "        'DefaultBrowsersIdentifier':                            'float16',\n",
        "        'AVProductStatesIdentifier':                            'float32',\n",
        "        'AVProductsInstalled':                                  'float16',\n",
        "        'AVProductsEnabled':                                    'float16',\n",
        "        'HasTpm':                                               'int8',\n",
        "        'CountryIdentifier':                                    'int16',\n",
        "        'CityIdentifier':                                       'float32',\n",
        "        'OrganizationIdentifier':                               'float16',\n",
        "        'GeoNameIdentifier':                                    'float16',\n",
        "        'LocaleEnglishNameIdentifier':                          'int8',\n",
        "        'Platform':                                             'category',\n",
        "        'Processor':                                            'category',\n",
        "        'OsVer':                                                'category',\n",
        "        'OsBuild':                                              'int16',\n",
        "        'OsSuite':                                              'int16',\n",
        "        'OsPlatformSubRelease':                                 'category',\n",
        "        'OsBuildLab':                                           'category',\n",
        "        'SkuEdition':                                           'category',\n",
        "        'IsProtected':                                          'float16',\n",
        "        'AutoSampleOptIn':                                      'int8',\n",
        "        'PuaMode':                                              'category',\n",
        "        'SMode':                                                'float16',\n",
        "        'IeVerIdentifier':                                      'float16',\n",
        "        'SmartScreen':                                          'category',\n",
        "        'Firewall':                                             'float16',\n",
        "        'UacLuaenable':                                         'float64',\n",
        "        'Census_MDC2FormFactor':                                'category',\n",
        "        'Census_DeviceFamily':                                  'category',\n",
        "        'Census_OEMNameIdentifier':                             'float32',\n",
        "        'Census_OEMModelIdentifier':                            'float32',\n",
        "        'Census_ProcessorCoreCount':                            'float16',\n",
        "        'Census_ProcessorManufacturerIdentifier':               'float16',\n",
        "        'Census_ProcessorModelIdentifier':                      'float32',\n",
        "        'Census_ProcessorClass':                                'category',\n",
        "        'Census_PrimaryDiskTotalCapacity':                      'float64',\n",
        "        'Census_PrimaryDiskTypeName':                           'category',\n",
        "        'Census_SystemVolumeTotalCapacity':                     'float64',\n",
        "        'Census_HasOpticalDiskDrive':                           'int8',\n",
        "        'Census_TotalPhysicalRAM':                              'float32',\n",
        "        'Census_ChassisTypeName':                               'category',\n",
        "        'Census_InternalPrimaryDiagonalDisplaySizeInInches':    'float32',\n",
        "        'Census_InternalPrimaryDisplayResolutionHorizontal':    'float32',\n",
        "        'Census_InternalPrimaryDisplayResolutionVertical':      'float32',\n",
        "        'Census_PowerPlatformRoleName':                         'category',\n",
        "        'Census_InternalBatteryType':                           'category',\n",
        "        'Census_InternalBatteryNumberOfCharges':                'float32',\n",
        "        'Census_OSVersion':                                     'category',\n",
        "        'Census_OSArchitecture':                                'category',\n",
        "        'Census_OSBranch':                                      'category',\n",
        "        'Census_OSBuildNumber':                                 'int16',\n",
        "        'Census_OSBuildRevision':                               'int32',\n",
        "        'Census_OSEdition':                                     'category',\n",
        "        'Census_OSSkuName':                                     'category',\n",
        "        'Census_OSInstallTypeName':                             'category',\n",
        "        'Census_OSInstallLanguageIdentifier':                   'float16',\n",
        "        'Census_OSUILocaleIdentifier':                          'int16',\n",
        "        'Census_OSWUAutoUpdateOptionsName':                     'category',\n",
        "        'Census_IsPortableOperatingSystem':                     'int8',\n",
        "        'Census_GenuineStateName':                              'category',\n",
        "        'Census_ActivationChannel':                             'category',\n",
        "        'Census_IsFlightingInternal':                           'float16',\n",
        "        'Census_IsFlightsDisabled':                             'float16',\n",
        "        'Census_FlightRing':                                    'category',\n",
        "        'Census_ThresholdOptIn':                                'float16',\n",
        "        'Census_FirmwareManufacturerIdentifier':                'float16',\n",
        "        'Census_FirmwareVersionIdentifier':                     'float32',\n",
        "        'Census_IsSecureBootEnabled':                           'int8',\n",
        "        'Census_IsWIMBootEnabled':                              'float16',\n",
        "        'Census_IsVirtualDevice':                               'float16',\n",
        "        'Census_IsTouchEnabled':                                'int8',\n",
        "        'Census_IsPenCapable':                                  'int8',\n",
        "        'Census_IsAlwaysOnAlwaysConnectedCapable':              'float16',\n",
        "        'Wdft_IsGamer':                                         'float16',\n",
        "        'Wdft_RegionIdentifier':                                'float16',\n",
        "        'HasDetections':                                        'int8'\n",
        "        }\n"
      ]
    },
    {
      "cell_type": "code",
      "execution_count": null,
      "metadata": {
        "id": "zrkOfgZlxRpV"
      },
      "outputs": [],
      "source": [
        "numberOfRows = 4000000\n",
        "\n",
        "seed = 6001\n",
        "np.random.seed(seed)\n",
        "random.seed(seed)"
      ]
    },
    {
      "cell_type": "code",
      "execution_count": null,
      "metadata": {
        "id": "dCcx1Qfqfo93"
      },
      "outputs": [],
      "source": [
        "%%time\n",
        "trainDf = pd.read_csv('/content/train.csv', dtype=dtypes)"
      ]
    },
    {
      "cell_type": "code",
      "execution_count": null,
      "metadata": {
        "id": "B4ziXx9xfo94",
        "scrolled": true
      },
      "outputs": [],
      "source": [
        "stats = []\n",
        "for col in trainDf.columns:\n",
        "    stats.append((col, trainDf[col].nunique(), trainDf[col].isnull().sum() * 100 / trainDf.shape[0], trainDf[col].value_counts(normalize=True, dropna=False).values[0] * 100, trainDf[col].dtype))\n",
        "    \n",
        "stats_df = pd.DataFrame(stats, columns=['Feature', 'Unique_values', 'Percentage of missing values', 'Percentage of values in the biggest category', 'type'])\n",
        "stats_df.sort_values('Percentage of missing values', ascending=False)"
      ]
    },
    {
      "cell_type": "code",
      "execution_count": null,
      "metadata": {
        "id": "l6oN2Om7fo95"
      },
      "outputs": [],
      "source": [
        "good_cols = list(trainDf.columns)\n",
        "for col in trainDf.columns:\n",
        "    rate = trainDf[col].value_counts(normalize=True, dropna=False).values[0]\n",
        "    if rate > 0.9:\n",
        "        good_cols.remove(col)"
      ]
    },
    {
      "cell_type": "code",
      "execution_count": null,
      "metadata": {
        "id": "vGM868VRfo96"
      },
      "outputs": [],
      "source": [
        "trainDf = trainDf[good_cols]"
      ]
    },
    {
      "cell_type": "code",
      "execution_count": null,
      "metadata": {
        "id": "ioUda5JBfo97",
        "scrolled": true
      },
      "outputs": [],
      "source": [
        "trainDf.head()"
      ]
    },
    {
      "cell_type": "code",
      "execution_count": null,
      "metadata": {
        "id": "eNbkS-ySJ1n2"
      },
      "outputs": [],
      "source": [
        "features_to_remove = []"
      ]
    },
    {
      "cell_type": "code",
      "execution_count": null,
      "metadata": {
        "id": "bhIgdbmDJ1n3"
      },
      "outputs": [],
      "source": [
        "(trainDf.isnull().sum()/trainDf.shape[0]).sort_values(ascending=False)"
      ]
    },
    {
      "cell_type": "code",
      "execution_count": null,
      "metadata": {
        "id": "lR0w8OMoJ1n3"
      },
      "outputs": [],
      "source": [
        "features_to_remove.append('PuaMode')\n",
        "features_to_remove.append('Census_ProcessorClass')"
      ]
    },
    {
      "cell_type": "code",
      "execution_count": null,
      "metadata": {
        "id": "f7KoZDCjJ1n4"
      },
      "outputs": [],
      "source": [
        "pd.options.display.float_format = '{:,.4f}'.format\n",
        "df_for_skewness = pd.DataFrame([{'column': c, 'uniq': trainDf[c].nunique(), 'skewness': trainDf[c].value_counts(normalize=True).values[0] * 100} for c in trainDf.columns])\n",
        "df_for_skewness = df_for_skewness.sort_values('skewness', ascending=False)\n",
        "df_for_skewness"
      ]
    },
    {
      "cell_type": "code",
      "execution_count": null,
      "metadata": {
        "id": "NcDaU6waJ1n5",
        "scrolled": false
      },
      "outputs": [],
      "source": [
        "features_to_remove.extend(df_for_skewness[df_for_skewness.skewness > 99].column.tolist())\n",
        "features_to_remove"
      ]
    },
    {
      "cell_type": "code",
      "execution_count": null,
      "metadata": {
        "id": "bGfP_--lJ1n5"
      },
      "outputs": [],
      "source": [
        "# PuaMode is duplicated in the two categories.\n",
        "features_to_remove.remove('PuaMode')\n",
        "\n",
        "# Drop these columns.\n",
        "trainDf.drop(features_to_remove, axis=1, inplace=True)"
      ]
    },
    {
      "cell_type": "code",
      "execution_count": null,
      "metadata": {
        "id": "-td57viLJ1n5"
      },
      "outputs": [],
      "source": [
        "# Nan Values\n",
        "null_counts = trainDf.isnull().sum()\n",
        "null_counts = null_counts / trainDf.shape[0]\n",
        "null_counts[null_counts > 0.1]"
      ]
    },
    {
      "cell_type": "code",
      "execution_count": null,
      "metadata": {
        "id": "5KWay31jJ1n6"
      },
      "outputs": [],
      "source": [
        "trainDf.DefaultBrowsersIdentifier.value_counts().head(5)"
      ]
    },
    {
      "cell_type": "code",
      "execution_count": null,
      "metadata": {
        "id": "Og0oTPZWJ1n6"
      },
      "outputs": [],
      "source": [
        "trainDf.DefaultBrowsersIdentifier.fillna(0, inplace=True)"
      ]
    },
    {
      "cell_type": "code",
      "execution_count": null,
      "metadata": {
        "id": "kiBRkj0NJ1n7"
      },
      "outputs": [],
      "source": [
        "trainDf.SmartScreen.value_counts()"
      ]
    },
    {
      "cell_type": "code",
      "execution_count": null,
      "metadata": {
        "id": "DxL7Ek2QJ1n7"
      },
      "outputs": [],
      "source": [
        "renaming_dictionary = {'off': 'Off', 'on': 'On','requireadmin': 'RequireAdmin','&#x02;': '2', '&#x01;': '1', 'OFF': 'Off', \n",
        "    'Promt': 'Prompt', 'requireAdmin': 'RequireAdmin', 'prompt': 'Prompt', 'warn': 'Warn', \n",
        "    '00000000': '0', '&#x03;': '3', np.nan: 'NotExists'}\n",
        "trainDf.replace({'SmartScreen': renaming_dictionary}, inplace=True)"
      ]
    },
    {
      "cell_type": "code",
      "execution_count": null,
      "metadata": {
        "id": "GLnrN4HXJ1n7"
      },
      "outputs": [],
      "source": [
        "trainDf.SmartScreen.isnull().sum()"
      ]
    },
    {
      "cell_type": "code",
      "execution_count": null,
      "metadata": {
        "id": "xc5wmAVhJ1n7"
      },
      "outputs": [],
      "source": [
        "trainDf.OrganizationIdentifier.value_counts()"
      ]
    },
    {
      "cell_type": "code",
      "execution_count": null,
      "metadata": {
        "id": "UjenJWbKJ1n8"
      },
      "outputs": [],
      "source": [
        "trainDf.replace({'OrganizationIdentifier': {np.nan: 0}}, inplace=True)"
      ]
    },
    {
      "cell_type": "code",
      "execution_count": null,
      "metadata": {
        "id": "jzs-NbrcJ1n8"
      },
      "outputs": [],
      "source": [
        "pd.options.display.max_rows = 99\n",
        "trainDf.Census_InternalBatteryType.value_counts()"
      ]
    },
    {
      "cell_type": "code",
      "execution_count": null,
      "metadata": {
        "id": "6rctaXD9J1n9"
      },
      "outputs": [],
      "source": [
        "renaming_dictionary = {\n",
        "    '\u001f˙˙˙': 'unknown', 'unkn': 'unknown', np.nan: 'unknown'\n",
        "}\n",
        "trainDf.replace({'Census_InternalBatteryType': renaming_dictionary}, inplace=True)"
      ]
    },
    {
      "cell_type": "code",
      "execution_count": null,
      "metadata": {
        "id": "ZXrcaORlJ1n9"
      },
      "outputs": [],
      "source": [
        "trainDf.shape"
      ]
    },
    {
      "cell_type": "code",
      "execution_count": null,
      "metadata": {
        "id": "P4zKUZwOJ1n9"
      },
      "outputs": [],
      "source": [
        "trainDf.dropna(inplace=True)\n",
        "trainDf.shape"
      ]
    },
    {
      "cell_type": "code",
      "execution_count": null,
      "metadata": {
        "id": "f2-GPZTkJ1oA"
      },
      "outputs": [],
      "source": [
        "corr_remove = []"
      ]
    },
    {
      "cell_type": "code",
      "execution_count": null,
      "metadata": {
        "id": "w-7mm5zNJ1oB"
      },
      "outputs": [],
      "source": [
        "corr_remove.append('Platform')"
      ]
    },
    {
      "cell_type": "code",
      "execution_count": null,
      "metadata": {
        "id": "TxBjGqdtJ1oD"
      },
      "outputs": [],
      "source": [
        "corr_remove.append('Census_OSSkuName')\n",
        "corr_remove.append('Census_OSInstallLanguageIdentifier')"
      ]
    },
    {
      "cell_type": "code",
      "execution_count": null,
      "metadata": {
        "id": "HCNKlsjgJ1oD"
      },
      "outputs": [],
      "source": [
        "corr_remove"
      ]
    },
    {
      "cell_type": "code",
      "execution_count": null,
      "metadata": {
        "id": "yHqVm8vtJ1oE"
      },
      "outputs": [],
      "source": [
        "trainDf.drop(corr_remove, axis=1, inplace=True)"
      ]
    },
    {
      "cell_type": "code",
      "execution_count": null,
      "metadata": {
        "id": "oZ_k9ZcwJ1oF"
      },
      "outputs": [],
      "source": [
        "corr_remove.append('Processor')"
      ]
    },
    {
      "cell_type": "code",
      "execution_count": null,
      "metadata": {
        "id": "0ClC_pibJ1oF"
      },
      "outputs": [],
      "source": [
        "features_to_remove.extend(corr_remove)\n",
        "print(len(features_to_remove))\n",
        "features_to_remove"
      ]
    },
    {
      "cell_type": "code",
      "execution_count": null,
      "metadata": {
        "id": "sCtvUZdafo-X"
      },
      "outputs": [],
      "source": [
        "cat_cols = [col for col in trainDf.columns if col not in ['MachineIdentifier', 'Census_SystemVolumeTotalCapacity', 'HasDetections'] and str(trainDf[col].dtype) == 'category']\n",
        "len(cat_cols)"
      ]
    },
    {
      "cell_type": "code",
      "execution_count": null,
      "metadata": {
        "id": "rzvOZ-jvfo-X"
      },
      "outputs": [],
      "source": [
        "more_cat_cols = []\n",
        "add_cat_feats = [\n",
        " 'Census_OSBuildRevision',\n",
        " 'OsBuildLab',\n",
        " 'SmartScreen',\n",
        "'AVProductsInstalled']\n",
        "for col1 in add_cat_feats:\n",
        "    for col2 in add_cat_feats:\n",
        "        if col1 != col2:\n",
        "            trainDf[col1 + '__' + col2] = trainDf[col1].astype(str) + trainDf[col2].astype(str)\n",
        "            trainDf[col1 + '__' + col2] = trainDf[col1 + '__' + col2].astype('category')\n",
        "            more_cat_cols.append(col1 + '__' + col2)\n",
        "            \n",
        "cat_cols = cat_cols + more_cat_cols"
      ]
    },
    {
      "cell_type": "code",
      "execution_count": null,
      "metadata": {
        "id": "8xpgbLsifo-X"
      },
      "outputs": [],
      "source": [
        "to_encode = []\n",
        "for col in cat_cols:\n",
        "    if trainDf[col].nunique() > 1000:\n",
        "        print(col, trainDf[col].nunique())\n",
        "        to_encode.append(col)"
      ]
    },
    {
      "cell_type": "code",
      "execution_count": null,
      "metadata": {
        "id": "PuRtZOPDKdg9"
      },
      "outputs": [],
      "source": [
        "to_encode.append('SmartScreen')"
      ]
    },
    {
      "cell_type": "code",
      "execution_count": null,
      "metadata": {
        "id": "2nM5nbZQKvAe"
      },
      "outputs": [],
      "source": [
        "to_encode"
      ]
    },
    {
      "cell_type": "markdown",
      "metadata": {
        "id": "QcM5lgfyfo-X"
      },
      "source": [
        "### Frequency encoding\n",
        "\n",
        "\n"
      ]
    },
    {
      "cell_type": "code",
      "execution_count": null,
      "metadata": {
        "id": "3F_1GSuTfo-X"
      },
      "outputs": [],
      "source": [
        "def frequency_encoding(variable):\n",
        "    t = pd.concat([trainDf[variable]]).value_counts().reset_index()\n",
        "    t = t.reset_index()\n",
        "    t.loc[t[variable] == 1, 'level_0'] = np.nan\n",
        "    t.set_index('index', inplace=True)\n",
        "    max_label = t['level_0'].max() + 1\n",
        "    t.fillna(max_label, inplace=True)\n",
        "    return t.to_dict()['level_0']"
      ]
    },
    {
      "cell_type": "code",
      "execution_count": null,
      "metadata": {
        "id": "qYRqT-Vefo-Y",
        "scrolled": true
      },
      "outputs": [],
      "source": [
        "for col in tqdm_notebook(to_encode):\n",
        "    freq_enc_dict = frequency_encoding(col)\n",
        "    trainDf[col] = trainDf[col].map(lambda x: freq_enc_dict.get(x, np.nan))\n",
        "    cat_cols.remove(col)"
      ]
    },
    {
      "cell_type": "markdown",
      "metadata": {
        "id": "Mp8RpJ4efo-Y"
      },
      "source": [
        "### Label Encoding"
      ]
    },
    {
      "cell_type": "code",
      "execution_count": null,
      "metadata": {
        "id": "FNeNKoB-fo-Y",
        "scrolled": true
      },
      "outputs": [],
      "source": [
        "%%time\n",
        "indexer = {}\n",
        "for col in cat_cols:\n",
        "    # print(col)\n",
        "    _, indexer[col] = pd.factorize(trainDf[col].astype(str), sort=True)\n",
        "    \n",
        "for col in tqdm_notebook(cat_cols):\n",
        "    trainDf[col] = indexer[col].get_indexer(trainDf[col].astype(str))\n",
        "  \n",
        "    \n"
      ]
    },
    {
      "cell_type": "code",
      "execution_count": null,
      "metadata": {
        "id": "SNvX9drKfo-Y"
      },
      "outputs": [],
      "source": [
        "del indexer"
      ]
    },
    {
      "cell_type": "code",
      "execution_count": null,
      "metadata": {
        "id": "3CSheTpzfo-Y"
      },
      "outputs": [],
      "source": [
        "trainDf.head()"
      ]
    },
    {
      "cell_type": "code",
      "execution_count": null,
      "metadata": {
        "id": "vifFy0_kojpP"
      },
      "outputs": [],
      "source": [
        "from sklearn.ensemble import AdaBoostClassifier\n",
        "from sklearn.ensemble import GradientBoostingClassifier\n",
        "from lightgbm import LGBMClassifier\n",
        "from sklearn.metrics import accuracy_score\n",
        "from sklearn.model_selection import KFold, cross_val_predict, train_test_split,GridSearchCV,cross_val_score\n",
        "import xgboost as xgb\n",
        "from xgboost import XGBClassifier\n",
        "from sklearn.model_selection import RepeatedStratifiedKFold"
      ]
    },
    {
      "cell_type": "code",
      "execution_count": null,
      "metadata": {
        "id": "lWgh-HkK3mgD"
      },
      "outputs": [],
      "source": [
        "from sklearn.preprocessing import OneHotEncoder,StandardScaler,PowerTransformer\n",
        "from sklearn.pipeline import make_pipeline\n",
        "from sklearn.pipeline import Pipeline\n",
        "from sklearn.compose import make_column_transformer"
      ]
    },
    {
      "cell_type": "code",
      "execution_count": null,
      "metadata": {
        "id": "XJHaCRsHvost"
      },
      "outputs": [],
      "source": [
        "from numpy import mean"
      ]
    },
    {
      "cell_type": "code",
      "execution_count": null,
      "metadata": {
        "id": "8YkApFLV-lEY"
      },
      "outputs": [],
      "source": [
        "# Get labels\n",
        "trainDf1 = trainDf[:500000]\n",
        "labels = trainDf1['HasDetections']\n",
        "trainDf1.drop(['HasDetections', 'MachineIdentifier'], axis=1, inplace=True)"
      ]
    },
    {
      "cell_type": "code",
      "execution_count": null,
      "metadata": {
        "id": "nuj5TLxWt9Sq"
      },
      "outputs": [],
      "source": [
        "trainDf1 = trainDf1.reset_index()"
      ]
    },
    {
      "cell_type": "code",
      "execution_count": null,
      "metadata": {
        "id": "XAZJPqcIvEYd"
      },
      "outputs": [],
      "source": [
        "labels = labels[:2313165]"
      ]
    },
    {
      "cell_type": "code",
      "source": [
        "detect_no = (trainDf['HasDetections']==0).sum()\n",
        "detect_yes = (trainDf[\"HasDetections\"]==1).sum()\n",
        "\n",
        "print(detect_no,detect_yes)\n",
        "label = 'No detection', 'Detection',\n",
        "sizes = [detect_no, detect_yes]\n",
        "\n",
        "fig1, ax1 = plt.subplots(figsize=(8,8))\n",
        "ax1.pie(sizes, labels=label, autopct='%1.1f%%',shadow=True, startangle=90, textprops={'fontsize': 15})\n",
        "ax1.axis('equal')\n",
        "\n",
        "plt.show()"
      ],
      "metadata": {
        "id": "bQl0ppnOVAc-"
      },
      "execution_count": null,
      "outputs": []
    },
    {
      "cell_type": "code",
      "source": [
        "configure_plotly_browser_state()\n",
        "init_notebook_mode(connected=False)\n",
        "px.bar(x = sizes, y = label, color = sizes)"
      ],
      "metadata": {
        "id": "ExJMEsomWfqN"
      },
      "execution_count": null,
      "outputs": []
    },
    {
      "cell_type": "code",
      "execution_count": null,
      "metadata": {
        "id": "2COcpVYHPxWn"
      },
      "outputs": [],
      "source": [
        "from sklearn.metrics import confusion_matrix, mean_squared_error, classification_report\n",
        "from sklearn.metrics import f1_score"
      ]
    },
    {
      "cell_type": "code",
      "execution_count": null,
      "metadata": {
        "id": "_hXCXb7GRldt"
      },
      "outputs": [],
      "source": [
        "X_trainDf, X_val, Y_trainDf, Y_val = train_test_split(trainDf1, labels, test_size=0.15,random_state=1)"
      ]
    },
    {
      "cell_type": "code",
      "execution_count": null,
      "metadata": {
        "id": "6mLriyvMY4up"
      },
      "outputs": [],
      "source": [
        "model1 = GradientBoostingClassifier()\n",
        "# pipe = make_pipeline(ct, model1)\n",
        "model1.fit(X_trainDf, Y_trainDf)"
      ]
    },
    {
      "cell_type": "code",
      "execution_count": null,
      "metadata": {
        "id": "6TvgBuSoc8hJ"
      },
      "outputs": [],
      "source": [
        "y_pred_gb = model1.predict(X_val)"
      ]
    },
    {
      "cell_type": "code",
      "execution_count": null,
      "metadata": {
        "id": "RwNec9oa6n3O"
      },
      "outputs": [],
      "source": [
        "print('-----Validation-----')\n",
        "print(classification_report(Y_val, y_pred_gb))"
      ]
    },
    {
      "cell_type": "code",
      "execution_count": null,
      "metadata": {
        "id": "Y2mw5lKt6vY9"
      },
      "outputs": [],
      "source": [
        "accuracy = []\n",
        "model_names = []\n",
        "accuracy.append(round(accuracy_score(Y_val, y_pred_gb),5))\n",
        "model_names = ['GradientBoost']\n",
        "result_df = pd.DataFrame({'Accuracy':accuracy}, index=model_names)\n",
        "result_df"
      ]
    },
    {
      "cell_type": "code",
      "execution_count": null,
      "metadata": {
        "id": "SjGJNKkhBZGF"
      },
      "outputs": [],
      "source": [
        "f1score = []\n",
        "model_names = []\n",
        "f1score.append(round(f1_score(Y_val, y_pred_gb),5))\n",
        "model_names = ['GradientBoost']\n",
        "result_df1_f = pd.DataFrame({'F1 Score':f1score}, index=model_names)\n",
        "result_df1_f"
      ]
    },
    {
      "cell_type": "code",
      "execution_count": null,
      "metadata": {
        "id": "z8v0LXk_BqaV"
      },
      "outputs": [],
      "source": [
        "explainer = ClassifierExplainer(\n",
        "                model1, X_val, Y_val,\n",
        "                \n",
        "                )"
      ]
    },
    {
      "cell_type": "code",
      "execution_count": null,
      "metadata": {
        "id": "fm4W_12_CW7e"
      },
      "outputs": [],
      "source": [
        "db = ExplainerDashboard(explainer, title=\"GradientBoostingExplainer\",\n",
        "                    whatif=False, # you can switch off tabs with bools\n",
        "                    shap_interaction=False,\n",
        "                    decision_trees=False)\n",
        "db.run()"
      ]
    },
    {
      "cell_type": "code",
      "execution_count": null,
      "metadata": {
        "id": "ZseoB9bVz665"
      },
      "outputs": [],
      "source": [
        "ExplainerDashboard.terminate(8050)"
      ]
    },
    {
      "cell_type": "code",
      "execution_count": null,
      "metadata": {
        "id": "89qD_yHIYRkH"
      },
      "outputs": [],
      "source": [
        "db.run()"
      ]
    },
    {
      "cell_type": "code",
      "execution_count": null,
      "metadata": {
        "id": "dAFzb_8HZHnQ"
      },
      "outputs": [],
      "source": [
        "explainer.metrics(cutoff=0.5)"
      ]
    },
    {
      "cell_type": "code",
      "execution_count": null,
      "metadata": {
        "id": "6n3lPE0MZODv"
      },
      "outputs": [],
      "source": [
        "configure_plotly_browser_state()\n",
        "init_notebook_mode(connected=False)\n",
        "explainer.plot_confusion_matrix(cutoff=0.5,  binary=True)"
      ]
    },
    {
      "cell_type": "code",
      "execution_count": null,
      "metadata": {
        "id": "cmsH4JUwvJ1F"
      },
      "outputs": [],
      "source": [
        "model2 = LGBMClassifier()\n",
        "model2.fit(X_trainDf, Y_trainDf)"
      ]
    },
    {
      "cell_type": "code",
      "execution_count": null,
      "metadata": {
        "id": "-1XXJ1omPmq6"
      },
      "outputs": [],
      "source": [
        "y_pred_lgbc = model2.predict(X_val)"
      ]
    },
    {
      "cell_type": "code",
      "execution_count": null,
      "metadata": {
        "id": "rJIft3M5PgpS"
      },
      "outputs": [],
      "source": [
        "print('-----Validation-----')\n",
        "print(classification_report(Y_val, y_pred_lgbc))"
      ]
    },
    {
      "cell_type": "code",
      "execution_count": null,
      "metadata": {
        "id": "0p4k97zGZNpL"
      },
      "outputs": [],
      "source": [
        "accuracy = []\n",
        "model_names = []\n",
        "accuracy.append(round(accuracy_score(Y_val, y_pred_lgbc),5))\n",
        "model_names = ['LGBClassifier']\n",
        "result_df2 = pd.DataFrame({'Accuracy':accuracy}, index=model_names)\n",
        "result_df2"
      ]
    },
    {
      "cell_type": "code",
      "execution_count": null,
      "metadata": {
        "id": "qU9dK_2Dar1r"
      },
      "outputs": [],
      "source": [
        "f1score = []\n",
        "model_names = []\n",
        "f1score.append(round(f1_score(Y_val, y_pred_lgbc),5))\n",
        "model_names = ['LGBClassifier']\n",
        "result_df2_f = pd.DataFrame({'F1 Score':f1score}, index=model_names)\n",
        "result_df2_f"
      ]
    },
    {
      "cell_type": "code",
      "execution_count": null,
      "metadata": {
        "id": "2vcvczzV9Axv"
      },
      "outputs": [],
      "source": [
        "explainer = ClassifierExplainer(\n",
        "                model2, X_val, Y_val\n",
        "                )"
      ]
    },
    {
      "cell_type": "code",
      "execution_count": null,
      "metadata": {
        "id": "ADq_Gi_96OVR"
      },
      "outputs": [],
      "source": [
        "db = ExplainerDashboard(explainer, title=\"LightBoostExplainer\",\n",
        "                    whatif=False, # you can switch off tabs with bools\n",
        "                    shap_interaction=False,\n",
        "                    decision_trees=False, index_dropdown=False)\n",
        "db.run()"
      ]
    },
    {
      "cell_type": "code",
      "execution_count": null,
      "metadata": {
        "id": "SisxSj5X9NTK"
      },
      "outputs": [],
      "source": [
        "ExplainerDashboard.terminate(8050)"
      ]
    },
    {
      "cell_type": "code",
      "execution_count": null,
      "metadata": {
        "id": "ERvJuOIi0pLy"
      },
      "outputs": [],
      "source": [
        "# Get labels\n",
        "trainDf2 = trainDf[:100000]\n",
        "labels = trainDf2['HasDetections']\n",
        "trainDf2.drop(['HasDetections', 'MachineIdentifier'], axis=1, inplace=True)"
      ]
    },
    {
      "cell_type": "code",
      "execution_count": null,
      "metadata": {
        "id": "SNhKc-8D1AZm"
      },
      "outputs": [],
      "source": [
        "labels2 = labels[:100000]"
      ]
    },
    {
      "cell_type": "code",
      "execution_count": null,
      "metadata": {
        "id": "-oCimU7N05uN"
      },
      "outputs": [],
      "source": [
        "X_trainDf2, X_val2, Y_trainDf2, Y_val2 = train_test_split(trainDf2, labels2, test_size=0.15,random_state=1)"
      ]
    },
    {
      "cell_type": "code",
      "execution_count": null,
      "metadata": {
        "id": "VsuCGpal391z"
      },
      "outputs": [],
      "source": [
        "import xgboost as xgb\n",
        "from xgboost import XGBClassifier"
      ]
    },
    {
      "cell_type": "code",
      "execution_count": null,
      "metadata": {
        "id": "aHKGfEySd0VT"
      },
      "outputs": [],
      "source": [
        "model3 = xgb.XGBClassifier()\n",
        "model3.fit(X_trainDf, Y_trainDf)"
      ]
    },
    {
      "cell_type": "code",
      "execution_count": null,
      "metadata": {
        "id": "owKKdFQEd0VT"
      },
      "outputs": [],
      "source": [
        "y_pred_xgb = model3.predict(X_val)"
      ]
    },
    {
      "cell_type": "code",
      "execution_count": null,
      "metadata": {
        "id": "GoX_xxX0d0VU"
      },
      "outputs": [],
      "source": [
        "print('-----Validation-----')\n",
        "print(classification_report(Y_val, y_pred_xgb))"
      ]
    },
    {
      "cell_type": "code",
      "execution_count": null,
      "metadata": {
        "id": "KeSFg65Qd0VU"
      },
      "outputs": [],
      "source": [
        "accuracy = []\n",
        "model_names = []\n",
        "accuracy.append(round(accuracy_score(Y_val, y_pred_xgb),5))\n",
        "model_names = ['XGBoostClassifier']\n",
        "result_df3 = pd.DataFrame({'Accuracy':accuracy}, index=model_names)\n",
        "result_df3"
      ]
    },
    {
      "cell_type": "code",
      "execution_count": null,
      "metadata": {
        "id": "QbHtpPtnd0VU"
      },
      "outputs": [],
      "source": [
        "f1score = []\n",
        "model_names = []\n",
        "f1score.append(round(f1_score(Y_val, y_pred_xgb),5))\n",
        "model_names = ['XGBoostClassifier']\n",
        "result_df3_f = pd.DataFrame({'F1 Score':f1score}, index=model_names)\n",
        "result_df3_f"
      ]
    },
    {
      "cell_type": "code",
      "execution_count": null,
      "metadata": {
        "id": "32Xacrosd0VU"
      },
      "outputs": [],
      "source": [
        "explainer = ClassifierExplainer(\n",
        "                model3, X_val, Y_val\n",
        "                )"
      ]
    },
    {
      "cell_type": "code",
      "execution_count": null,
      "metadata": {
        "id": "bhDszsD7d0VU"
      },
      "outputs": [],
      "source": [
        "db = ExplainerDashboard(explainer, title=\"XGBoost\",\n",
        "                    whatif=False, # you can switch off tabs with bools\n",
        "                    shap_interaction=False,\n",
        "                    decision_trees=False)\n",
        "db.run()"
      ]
    },
    {
      "cell_type": "code",
      "execution_count": null,
      "metadata": {
        "id": "3faZww6e6frp"
      },
      "outputs": [],
      "source": [
        "ExplainerDashboard.terminate(8050)"
      ]
    },
    {
      "cell_type": "code",
      "execution_count": null,
      "metadata": {
        "id": "Dk2IgnQi6nFa"
      },
      "outputs": [],
      "source": [
        "pip install catboost"
      ]
    },
    {
      "cell_type": "code",
      "execution_count": null,
      "metadata": {
        "id": "c-jCrzOW7auj"
      },
      "outputs": [],
      "source": [
        "from catboost import CatBoostClassifier"
      ]
    },
    {
      "cell_type": "code",
      "execution_count": null,
      "metadata": {
        "id": "XYc80Oq27cvZ"
      },
      "outputs": [],
      "source": [
        "import catboost as ctb"
      ]
    },
    {
      "cell_type": "code",
      "execution_count": null,
      "metadata": {
        "id": "Zoo1LYHq7iSa"
      },
      "outputs": [],
      "source": [
        "model4 = ctb.CatBoostClassifier()\n",
        "model4.fit(X_trainDf2, Y_trainDf2)"
      ]
    },
    {
      "cell_type": "code",
      "execution_count": null,
      "metadata": {
        "id": "ced0Dc6P7rb5"
      },
      "outputs": [],
      "source": [
        "y_pred_cat = model4.predict(X_val2)"
      ]
    },
    {
      "cell_type": "code",
      "execution_count": null,
      "metadata": {
        "id": "6avV6en878qK"
      },
      "outputs": [],
      "source": [
        "print('-----Validation-----')\n",
        "print(classification_report(Y_val2, y_pred_cat))"
      ]
    },
    {
      "cell_type": "code",
      "execution_count": null,
      "metadata": {
        "id": "nRwZNCyn8IAc"
      },
      "outputs": [],
      "source": [
        "accuracy = []\n",
        "model_names = []\n",
        "accuracy.append(round(accuracy_score(Y_val2, y_pred_cat),5))\n",
        "model_names = ['CatBoostClassifier']\n",
        "result_df4 = pd.DataFrame({'Accuracy':accuracy}, index=model_names)\n",
        "result_df4"
      ]
    },
    {
      "cell_type": "code",
      "execution_count": null,
      "metadata": {
        "id": "9FKWP00O8IAc"
      },
      "outputs": [],
      "source": [
        "f1score = []\n",
        "model_names = []\n",
        "f1score.append(round(f1_score(Y_val2, y_pred_cat),5))\n",
        "model_names = ['CatBoostClassifier']\n",
        "result_df4_f = pd.DataFrame({'F1 Score':f1score}, index=model_names)\n",
        "result_df4_f"
      ]
    },
    {
      "cell_type": "code",
      "execution_count": null,
      "metadata": {
        "id": "vJ2w6NJq8WZl"
      },
      "outputs": [],
      "source": [
        "explainer = ClassifierExplainer(\n",
        "                model4, X_val2, Y_val2\n",
        "                )"
      ]
    },
    {
      "cell_type": "code",
      "execution_count": null,
      "metadata": {
        "id": "hxTZuU_O8Yri"
      },
      "outputs": [],
      "source": [
        "db = ExplainerDashboard(explainer, title=\"CatBoost\",\n",
        "                    whatif=False, # you can switch off tabs with bools\n",
        "                    shap_interaction=False,\n",
        "                    decision_trees=False)\n",
        "db.run()"
      ]
    },
    {
      "cell_type": "code",
      "execution_count": null,
      "metadata": {
        "id": "v28ubNm2GV4O"
      },
      "outputs": [],
      "source": [
        "ExplainerDashboard.terminate(8050)"
      ]
    },
    {
      "cell_type": "code",
      "execution_count": null,
      "metadata": {
        "id": "qGAwgPB4sILh"
      },
      "outputs": [],
      "source": [
        "# Get labels\n",
        "trainDf3 = trainDf[:10000]\n",
        "labels = trainDf3['HasDetections']\n",
        "trainDf3.drop(['HasDetections', 'MachineIdentifier'], axis=1, inplace=True)"
      ]
    },
    {
      "cell_type": "code",
      "execution_count": null,
      "metadata": {
        "id": "HQ2hK7AgsILh"
      },
      "outputs": [],
      "source": [
        "labels3 = labels[:10000]"
      ]
    },
    {
      "cell_type": "code",
      "execution_count": null,
      "metadata": {
        "id": "Lx2Ym5NksILi"
      },
      "outputs": [],
      "source": [
        "X_trainDf3, X_val3, Y_trainDf3, Y_val3 = train_test_split(trainDf3, labels3, test_size=0.15,random_state=1)"
      ]
    },
    {
      "cell_type": "code",
      "execution_count": null,
      "metadata": {
        "id": "RjH8LLE-sdBD"
      },
      "outputs": [],
      "source": [
        "model5 = AdaBoostClassifier()\n",
        "model5.fit(X_trainDf3, Y_trainDf3)"
      ]
    },
    {
      "cell_type": "code",
      "execution_count": null,
      "metadata": {
        "id": "ZIO7HbdWsdBD"
      },
      "outputs": [],
      "source": [
        "y_pred_adb = model5.predict(X_val3)"
      ]
    },
    {
      "cell_type": "code",
      "execution_count": null,
      "metadata": {
        "id": "FwV2E_8QsdBD"
      },
      "outputs": [],
      "source": [
        "print('-----Validation-----')\n",
        "print(classification_report(Y_val3, y_pred_adb))"
      ]
    },
    {
      "cell_type": "code",
      "execution_count": null,
      "metadata": {
        "id": "Wg-UsH9XsdBE"
      },
      "outputs": [],
      "source": [
        "accuracy = []\n",
        "model_names = []\n",
        "accuracy.append(round(accuracy_score(Y_val3, y_pred_adb),5))\n",
        "model_names = ['AdaBoostClassifier']\n",
        "result_df5 = pd.DataFrame({'Accuracy':accuracy}, index=model_names)\n",
        "result_df5"
      ]
    },
    {
      "cell_type": "code",
      "execution_count": null,
      "metadata": {
        "id": "6jY92qofsdBE"
      },
      "outputs": [],
      "source": [
        "f1score = []\n",
        "model_names = []\n",
        "f1score.append(round(f1_score(Y_val3, y_pred_adb),5))\n",
        "model_names = ['AdaBoostClassifier']\n",
        "result_df5_f = pd.DataFrame({'F1 Score':f1score}, index=model_names)\n",
        "result_df5_f"
      ]
    },
    {
      "cell_type": "code",
      "execution_count": null,
      "metadata": {
        "id": "czEDxj0asdBE"
      },
      "outputs": [],
      "source": [
        "explainer = ClassifierExplainer(\n",
        "                model5, X_val3, Y_val3\n",
        "                )"
      ]
    },
    {
      "cell_type": "code",
      "execution_count": null,
      "metadata": {
        "id": "MBS-BjPXsdBE"
      },
      "outputs": [],
      "source": [
        "db = ExplainerDashboard(explainer, title=\"ADABoost\",\n",
        "                    whatif=False, # you can switch off tabs with bools\n",
        "                    shap_interaction=False,\n",
        "                    decision_trees=False)\n",
        "db.run()"
      ]
    },
    {
      "cell_type": "code",
      "source": [
        "ExplainerDashboard.terminate(8050)"
      ],
      "metadata": {
        "id": "9M6gpISI60I5"
      },
      "execution_count": null,
      "outputs": []
    },
    {
      "cell_type": "markdown",
      "source": [
        "***Hyperparameter Optimization***"
      ],
      "metadata": {
        "id": "xXnOuSuJAkcy"
      }
    },
    {
      "cell_type": "code",
      "source": [
        "pip install optuna"
      ],
      "metadata": {
        "id": "OWbhUNftAY-q"
      },
      "execution_count": null,
      "outputs": []
    },
    {
      "cell_type": "code",
      "source": [
        "import optuna"
      ],
      "metadata": {
        "id": "FyEIHUbmAhGB"
      },
      "execution_count": null,
      "outputs": []
    },
    {
      "cell_type": "code",
      "source": [
        "import lightgbm as lgb"
      ],
      "metadata": {
        "id": "tQAOra2qCtBF"
      },
      "execution_count": null,
      "outputs": []
    },
    {
      "cell_type": "code",
      "source": [
        "import optuna\n",
        "def objective(trial):\n",
        "    dtrain = lgb.Dataset(X_trainDf, label=Y_trainDf)\n",
        "\n",
        "    param = {\n",
        "        \"objective\": \"binary\",\n",
        "        \"metric\": \"binary_logloss\",\n",
        "        \"verbosity\": -1,\n",
        "        \"boosting_type\": \"gbdt\",\n",
        "        \"lambda_l1\": trial.suggest_float(\"lambda_l1\", 1e-8, 10.0, log=True),\n",
        "        \"lambda_l2\": trial.suggest_float(\"lambda_l2\", 1e-8, 10.0, log=True),\n",
        "        \"num_leaves\": trial.suggest_int(\"num_leaves\", 2, 256),\n",
        "        \"feature_fraction\": trial.suggest_float(\"feature_fraction\", 0.4, 1.0),\n",
        "        \"bagging_fraction\": trial.suggest_float(\"bagging_fraction\", 0.4, 1.0),\n",
        "        \"bagging_freq\": trial.suggest_int(\"bagging_freq\", 1, 7),\n",
        "        \"min_child_samples\": trial.suggest_int(\"min_child_samples\", 5, 100),\n",
        "    }\n",
        "\n",
        "    gbm = lgb.train(param, dtrain)\n",
        "    preds = gbm.predict(X_val)\n",
        "    pred_labels = np.rint(preds)\n",
        "    accuracy = accuracy_score(Y_val, pred_labels)\n",
        "    return accuracy"
      ],
      "metadata": {
        "id": "2FrHmsUDAo-U"
      },
      "execution_count": null,
      "outputs": []
    },
    {
      "cell_type": "code",
      "source": [
        "study = optuna.create_study(direction=\"maximize\")\n",
        "study.optimize(objective, n_trials=100)"
      ],
      "metadata": {
        "id": "IIxKFiZ0BzpC"
      },
      "execution_count": null,
      "outputs": []
    },
    {
      "cell_type": "code",
      "source": [
        "print(\"Number of finished trials: {}\".format(len(study.trials)))\n",
        "\n",
        "print(\"Best trial:\")\n",
        "trial = study.best_trial\n",
        "\n",
        "print(\"  Value: {}\".format(trial.value))\n",
        "\n",
        "print(\"  Params: \")\n",
        "for key, value in trial.params.items():\n",
        "    print(\"    {}: {}\".format(key, value))"
      ],
      "metadata": {
        "id": "eQ-pxmtZD9N2"
      },
      "execution_count": null,
      "outputs": []
    },
    {
      "cell_type": "code",
      "source": [
        "def objective(trial):\n",
        "    \n",
        "\n",
        "    param = {\n",
        "        \"objective\": trial.suggest_categorical(\"objective\", [\"Logloss\", \"CrossEntropy\"]),\n",
        "        \"colsample_bylevel\": trial.suggest_float(\"colsample_bylevel\", 0.01, 0.1),\n",
        "        \"depth\": trial.suggest_int(\"depth\", 1, 12),\n",
        "        \"boosting_type\": trial.suggest_categorical(\"boosting_type\", [\"Ordered\", \"Plain\"]),\n",
        "        \"bootstrap_type\": trial.suggest_categorical(\n",
        "            \"bootstrap_type\", [\"Bayesian\", \"Bernoulli\", \"MVS\"]\n",
        "        ),\n",
        "        \n",
        "    }\n",
        "\n",
        "    if param[\"bootstrap_type\"] == \"Bayesian\":\n",
        "        param[\"bagging_temperature\"] = trial.suggest_float(\"bagging_temperature\", 0, 10)\n",
        "    elif param[\"bootstrap_type\"] == \"Bernoulli\":\n",
        "        param[\"subsample\"] = trial.suggest_float(\"subsample\", 0.1, 1)\n",
        "\n",
        "    gbm = ctb.CatBoostClassifier(**param)\n",
        "\n",
        "    gbm.fit(X_trainDf2, Y_trainDf2, eval_set=[(X_val2, Y_val2)], verbose=0, early_stopping_rounds=100)\n",
        "\n",
        "    preds = gbm.predict(X_val2)\n",
        "    pred_labels = np.rint(preds)\n",
        "    accuracy = accuracy_score(Y_val2, pred_labels)\n",
        "    return accuracy"
      ],
      "metadata": {
        "id": "iUh97JBmWox3"
      },
      "execution_count": null,
      "outputs": []
    },
    {
      "cell_type": "code",
      "source": [
        "study1 = optuna.create_study(direction=\"maximize\")\n",
        "study1.optimize(objective, n_trials=100)"
      ],
      "metadata": {
        "id": "v4jshzvPXMCj"
      },
      "execution_count": null,
      "outputs": []
    },
    {
      "cell_type": "code",
      "source": [
        "print(\"Number of finished trials: {}\".format(len(study1.trials)))\n",
        "\n",
        "print(\"Best trial:\")\n",
        "trial = study1.best_trial\n",
        "\n",
        "print(\"  Value: {}\".format(trial.value))\n",
        "\n",
        "print(\"  Params: \")\n",
        "for key, value in trial.params.items():\n",
        "    print(\"    {}: {}\".format(key, value))"
      ],
      "metadata": {
        "id": "joLoNt-sXpkG"
      },
      "execution_count": null,
      "outputs": []
    },
    {
      "cell_type": "markdown",
      "source": [
        "***Comparing Accuracy***"
      ],
      "metadata": {
        "id": "EWKxz6wGAVlX"
      }
    },
    {
      "cell_type": "code",
      "source": [
        "result_final = pd.concat([result_df,result_df2,result_df3,result_df4,result_df5],axis=0)"
      ],
      "metadata": {
        "id": "LLQ_dmmjXQbJ"
      },
      "execution_count": null,
      "outputs": []
    },
    {
      "cell_type": "code",
      "source": [
        "result_final"
      ],
      "metadata": {
        "id": "6VRfRPouSsXl"
      },
      "execution_count": null,
      "outputs": []
    },
    {
      "cell_type": "code",
      "source": [
        "result_final.columns"
      ],
      "metadata": {
        "id": "EW_cLzgcS2eF"
      },
      "execution_count": null,
      "outputs": []
    },
    {
      "cell_type": "code",
      "source": [
        "configure_plotly_browser_state()\n",
        "init_notebook_mode(connected=False)\n",
        "result_final.sort_values(by=['Accuracy'], ascending=True,inplace=True)\n",
        "fig = px.bar(result_final, y=result_final['Accuracy'], x=result_final.index,title='Model Accuracy Comparison',height=900,width = 2000,labels={'index':'MODELS'}, color = 'Accuracy',color_continuous_scale=px.colors.sequential.Viridis)\n",
        "fig.update_yaxes(tickfont_size=20)\n",
        "fig.update_xaxes(tickfont_size=20)\n"
      ],
      "metadata": {
        "id": "E_mM-ZpNXjnd"
      },
      "execution_count": null,
      "outputs": []
    },
    {
      "cell_type": "code",
      "source": [
        "f1_final = pd.concat([result_df1_f,result_df2_f,result_df3_f,result_df4_f,result_df5_f],axis=0)"
      ],
      "metadata": {
        "id": "kur-3rMDrGL_"
      },
      "execution_count": null,
      "outputs": []
    },
    {
      "cell_type": "code",
      "source": [
        "configure_plotly_browser_state()\n",
        "init_notebook_mode(connected=False)\n",
        "f1_final.sort_values(by=['F1 Score'], ascending=True,inplace=True)\n",
        "fig = px.bar(f1_final, y=f1_final['F1 Score'], x=f1_final.index,title='Model F1 Score Comparison',height=900,width = 2000,labels={'index':'MODELS'}, color = 'F1 Score', color_continuous_scale=px.colors.sequential.Viridis)\n",
        "fig.update_yaxes(tickfont_size=20)\n",
        "fig.update_xaxes(tickfont_size=20)"
      ],
      "metadata": {
        "id": "mowAGTbyrNQQ"
      },
      "execution_count": null,
      "outputs": []
    },
    {
      "cell_type": "code",
      "source": [
        "pip install dalex"
      ],
      "metadata": {
        "id": "4oSx8fq_1DqP"
      },
      "execution_count": null,
      "outputs": []
    },
    {
      "cell_type": "markdown",
      "source": [
        "***Dalex Interpretation of Models***"
      ],
      "metadata": {
        "id": "gbjeUlETQ9y1"
      }
    },
    {
      "cell_type": "code",
      "source": [
        "pip install lime"
      ],
      "metadata": {
        "id": "d3mQp28nQ69t"
      },
      "execution_count": null,
      "outputs": []
    },
    {
      "cell_type": "code",
      "source": [
        "import dalex as dx \n",
        "dx.__version__ "
      ],
      "metadata": {
        "id": "LunCv3ya1LFA"
      },
      "execution_count": null,
      "outputs": []
    },
    {
      "cell_type": "markdown",
      "source": [
        "***Dalex for Gradient Boosting***"
      ],
      "metadata": {
        "id": "y4vS9u2i5bbZ"
      }
    },
    {
      "cell_type": "code",
      "source": [
        "explainer = dx.Explainer(model1, data = X_val, y=Y_val, label=\"GradientBoost\", model_type=\"classification\")"
      ],
      "metadata": {
        "id": "CCDtVTO81RnA"
      },
      "execution_count": null,
      "outputs": []
    },
    {
      "cell_type": "code",
      "source": [
        "explainer.model_performance()"
      ],
      "metadata": {
        "id": "P6VT3ygx1aHr"
      },
      "execution_count": null,
      "outputs": []
    },
    {
      "cell_type": "code",
      "source": [
        "trainDf['CountryIdentifier'].describe()"
      ],
      "metadata": {
        "id": "6Kgr1k3MW3Jm"
      },
      "execution_count": null,
      "outputs": []
    },
    {
      "cell_type": "code",
      "source": [
        "protected = np.where(X_val.CountryIdentifier >= 107, 'CountrySpecific', \"else\")\n",
        "privileged = 'else'"
      ],
      "metadata": {
        "id": "tGM_rrDuXGw7"
      },
      "execution_count": null,
      "outputs": []
    },
    {
      "cell_type": "code",
      "source": [
        "fobject = explainer.model_fairness(protected = protected,privileged = privileged)"
      ],
      "metadata": {
        "id": "Ufl0JVvXWB0a"
      },
      "execution_count": null,
      "outputs": []
    },
    {
      "cell_type": "code",
      "source": [
        "fobject.fairness_check(epsilon = 0.8)"
      ],
      "metadata": {
        "id": "x7hUl33UWloZ"
      },
      "execution_count": null,
      "outputs": []
    },
    {
      "cell_type": "code",
      "source": [
        "fobject.result"
      ],
      "metadata": {
        "id": "QSoC7EVboWjA"
      },
      "execution_count": null,
      "outputs": []
    },
    {
      "cell_type": "code",
      "source": [
        "fobject.metric_scores"
      ],
      "metadata": {
        "id": "rq6kOhORpJwL"
      },
      "execution_count": null,
      "outputs": []
    },
    {
      "cell_type": "code",
      "source": [
        "explainer2 = dx.Explainer(model2, data = X_val, y=Y_val, label=\"LGBM\", model_type=\"classification\")"
      ],
      "metadata": {
        "id": "H3n6BZHaovKa"
      },
      "execution_count": null,
      "outputs": []
    },
    {
      "cell_type": "code",
      "source": [
        "fobject2 = explainer2.model_fairness(protected = protected,privileged = privileged)"
      ],
      "metadata": {
        "id": "o256i69WokyU"
      },
      "execution_count": null,
      "outputs": []
    },
    {
      "cell_type": "code",
      "source": [
        "fobject2.metric_scores"
      ],
      "metadata": {
        "id": "IVrIf7jWpCtO"
      },
      "execution_count": null,
      "outputs": []
    },
    {
      "cell_type": "code",
      "source": [
        "explainer3 = dx.Explainer(model3, data = X_val, y=Y_val, label=\"XGboost\", model_type=\"classification\")"
      ],
      "metadata": {
        "id": "_ZMOD8sLEVQk"
      },
      "execution_count": null,
      "outputs": []
    },
    {
      "cell_type": "code",
      "source": [
        "fobject3 = explainer3.model_fairness(protected = protected,privileged = privileged)"
      ],
      "metadata": {
        "id": "JJxdsfsWEOpL"
      },
      "execution_count": null,
      "outputs": []
    },
    {
      "cell_type": "code",
      "source": [
        "explainer4 = dx.Explainer(model7, data = X_val, y=Y_val, label=\"CatBoost\", model_type=\"classification\")"
      ],
      "metadata": {
        "id": "6gG5SzLiEczg"
      },
      "execution_count": null,
      "outputs": []
    },
    {
      "cell_type": "code",
      "source": [
        "fobject4 = explainer4.model_fairness(protected = protected,privileged = privileged)"
      ],
      "metadata": {
        "id": "jaBB9stwEczg"
      },
      "execution_count": null,
      "outputs": []
    },
    {
      "cell_type": "code",
      "source": [
        "explainer5 = dx.Explainer(model6, data = X_val, y=Y_val, label=\"AdaBoost\", model_type=\"classification\")"
      ],
      "metadata": {
        "id": "n25YlrXgEk-A"
      },
      "execution_count": null,
      "outputs": []
    },
    {
      "cell_type": "code",
      "source": [
        "fobject5 = explainer5.model_fairness(protected = protected,privileged = privileged)"
      ],
      "metadata": {
        "id": "-5-srMPGEk-B"
      },
      "execution_count": null,
      "outputs": []
    },
    {
      "cell_type": "code",
      "source": [
        "configure_plotly_browser_state()\n",
        "init_notebook_mode(connected=False)\n",
        "fobject.plot(objects=[fobject2,fobject3,fobject4,fobject5], type = \"radar\")"
      ],
      "metadata": {
        "id": "l1oQp9bvpqJD"
      },
      "execution_count": null,
      "outputs": []
    },
    {
      "cell_type": "code",
      "source": [
        "configure_plotly_browser_state()\n",
        "init_notebook_mode(connected=False)\n",
        "fobject.plot(objects=[fobject2,fobject3,fobject4,fobject5], type = \"stacked\",tickfont_size=15)"
      ],
      "metadata": {
        "id": "jBl-oUz5ytUv"
      },
      "execution_count": null,
      "outputs": []
    },
    {
      "cell_type": "code",
      "source": [
        "configure_plotly_browser_state()\n",
        "init_notebook_mode(connected=False)\n",
        "fobject.plot(objects=[fobject2,fobject3,fobject4,fobject5])"
      ],
      "metadata": {
        "id": "nneFaejPoX5m"
      },
      "execution_count": null,
      "outputs": []
    },
    {
      "cell_type": "code",
      "source": [
        "configure_plotly_browser_state()\n",
        "init_notebook_mode(connected=False)\n",
        "fobject.plot(objects=[fobject2,fobject3,fobject4,fobject5], type = \"metric_scores\")"
      ],
      "metadata": {
        "id": "jb1ji1Q1Fcoz"
      },
      "execution_count": null,
      "outputs": []
    },
    {
      "cell_type": "code",
      "source": [
        "configure_plotly_browser_state()\n",
        "init_notebook_mode(connected=False)\n",
        "fobject.plot(objects=[fobject2,fobject3,fobject4,fobject5], type = \"performance_and_fairness\")"
      ],
      "metadata": {
        "id": "kC2zPh_MFsk9"
      },
      "execution_count": null,
      "outputs": []
    },
    {
      "cell_type": "code",
      "source": [
        "# Generate importance plot\n",
        "configure_plotly_browser_state()\n",
        "init_notebook_mode(connected=False)\n",
        "explainer.model_parts().plot()"
      ],
      "metadata": {
        "id": "7WdMi5n31d42"
      },
      "execution_count": null,
      "outputs": []
    },
    {
      "cell_type": "code",
      "source": [
        "trainDf.iloc[75, :]"
      ],
      "metadata": {
        "id": "kUpW8qnUfKHj"
      },
      "execution_count": null,
      "outputs": []
    },
    {
      "cell_type": "code",
      "source": [
        "# Generate breakdown plot\n",
        "configure_plotly_browser_state()\n",
        "init_notebook_mode(connected=False)\n",
        "explainer.predict_parts(trainDf1.iloc[75, :]).plot(max_vars=40)"
      ],
      "metadata": {
        "id": "49UnV45yfEs0"
      },
      "execution_count": null,
      "outputs": []
    },
    {
      "cell_type": "code",
      "source": [
        "# Generate PDP plots for all variables \n",
        "configure_plotly_browser_state()\n",
        "init_notebook_mode(connected=False)\n",
        "explainer.model_profile(type = 'partial', label=\"pdp\").plot()"
      ],
      "metadata": {
        "id": "lB32KqiMQB6c"
      },
      "execution_count": null,
      "outputs": []
    },
    {
      "cell_type": "code",
      "source": [
        "# Generate Accumulated Local Effects plots for all variables \n",
        "configure_plotly_browser_state()\n",
        "init_notebook_mode(connected=False)\n",
        "explainer.model_profile(type = 'ale', label=\"pdp\").plot()"
      ],
      "metadata": {
        "id": "dchIe3rsQUs9"
      },
      "execution_count": null,
      "outputs": []
    },
    {
      "cell_type": "code",
      "source": [
        "# Generate lime breakdown plot\n",
        "configure_plotly_browser_state()\n",
        "init_notebook_mode(connected=False)\n",
        "explainer.model_performance(model_type='classification').plot(geom='roc')"
      ],
      "metadata": {
        "id": "J9HMeoUxQteJ"
      },
      "execution_count": null,
      "outputs": []
    },
    {
      "cell_type": "code",
      "source": [
        "# Generate lime breakdown plot\n",
        "configure_plotly_browser_state()\n",
        "init_notebook_mode(connected=False)\n",
        "explainer.predict_surrogate(trainDf1.iloc[[1]]).plot()"
      ],
      "metadata": {
        "id": "h2UpdFITSem3"
      },
      "execution_count": null,
      "outputs": []
    },
    {
      "cell_type": "code",
      "source": [
        "# Generate SHAP plot \n",
        "configure_plotly_browser_state()\n",
        "init_notebook_mode(connected=False)\n",
        "explainer.predict_parts(trainDf1.iloc[75, :],type=\"shap\").plot(min_max=[0,1],max_vars=70)"
      ],
      "metadata": {
        "id": "NragWr-MTfrg"
      },
      "execution_count": null,
      "outputs": []
    },
    {
      "cell_type": "code",
      "source": [
        "# Generate residual plots\n",
        "configure_plotly_browser_state()\n",
        "init_notebook_mode(connected=False)\n",
        "explainer.model_performance(model_type = 'classification').plot()"
      ],
      "metadata": {
        "id": "6g5fP2gKX7T5"
      },
      "execution_count": null,
      "outputs": []
    },
    {
      "cell_type": "code",
      "source": [
        "# Generate breakdown interactions plot \n",
        "configure_plotly_browser_state()\n",
        "init_notebook_mode(connected=False)\n",
        "explainer.predict_parts(trainDf1.iloc[75, :], type='break_down_interactions').plot(max_vars=20)"
      ],
      "metadata": {
        "id": "pfBu1E4YWSUJ"
      },
      "execution_count": null,
      "outputs": []
    },
    {
      "cell_type": "code",
      "source": [
        "explainer2 = dx.Explainer(model2, X_val, Y_val, label=\"LightGBM\", model_type=\"classification\")"
      ],
      "metadata": {
        "id": "8uA_ymeqmSTo"
      },
      "execution_count": null,
      "outputs": []
    },
    {
      "cell_type": "code",
      "source": [
        "explainer3 = dx.Explainer(model3, X_val, Y_val, label=\"XGBoost\", model_type=\"classification\")"
      ],
      "metadata": {
        "id": "KeN4DefWmbEO"
      },
      "execution_count": null,
      "outputs": []
    },
    {
      "cell_type": "code",
      "source": [
        "model7 = ctb.CatBoostClassifier()\n",
        "model7.fit(X_trainDf, Y_trainDf)"
      ],
      "metadata": {
        "id": "w5dBjGz276xH"
      },
      "execution_count": null,
      "outputs": []
    },
    {
      "cell_type": "code",
      "source": [
        "explainer4 = dx.Explainer(model7, X_val, Y_val, label=\"CatBoost\", model_type=\"classification\")"
      ],
      "metadata": {
        "id": "cKwHHNYMmi6j"
      },
      "execution_count": null,
      "outputs": []
    },
    {
      "cell_type": "code",
      "source": [
        "model6 = AdaBoostClassifier()\n",
        "model6.fit(X_trainDf, Y_trainDf)"
      ],
      "metadata": {
        "id": "CT4ZA7E3n2-H"
      },
      "execution_count": null,
      "outputs": []
    },
    {
      "cell_type": "code",
      "source": [
        "explainer5 = dx.Explainer(model6, X_val, Y_val, label=\"AdaBoost\", model_type=\"classification\")"
      ],
      "metadata": {
        "id": "tLksoom9mv7E"
      },
      "execution_count": null,
      "outputs": []
    },
    {
      "cell_type": "code",
      "source": [
        "# prepare list of Explainer objects\n",
        "exp_list = [explainer, explainer2, explainer3, explainer4, explainer5]"
      ],
      "metadata": {
        "id": "vdhGWGEJm1fK"
      },
      "execution_count": null,
      "outputs": []
    },
    {
      "cell_type": "code",
      "source": [
        "pd.concat([exp.model_performance().result for exp in exp_list])"
      ],
      "metadata": {
        "id": "HURGKh93nJFg"
      },
      "execution_count": null,
      "outputs": []
    },
    {
      "cell_type": "markdown",
      "source": [
        "***Residual Plots***"
      ],
      "metadata": {
        "id": "ZVu49TPbnP-G"
      }
    },
    {
      "cell_type": "code",
      "source": [
        "configure_plotly_browser_state()\n",
        "init_notebook_mode(connected=False)\n",
        "exp_list[0].model_performance().plot([exp.model_performance() for exp in exp_list[1:]])"
      ],
      "metadata": {
        "id": "l2QJA06knOq_"
      },
      "execution_count": null,
      "outputs": []
    },
    {
      "cell_type": "markdown",
      "source": [
        "***Variable Importance***"
      ],
      "metadata": {
        "id": "ejCbQ-Lgojmt"
      }
    },
    {
      "cell_type": "code",
      "source": [
        "configure_plotly_browser_state()\n",
        "init_notebook_mode(connected=False)\n",
        "exp_list[0].model_parts().plot([exp.model_parts() for exp in exp_list[1:]])"
      ],
      "metadata": {
        "id": "U9DvtcS9onfa"
      },
      "execution_count": null,
      "outputs": []
    },
    {
      "cell_type": "code",
      "source": [
        "configure_plotly_browser_state()\n",
        "init_notebook_mode(connected=False)\n",
        "exp_list[0].model_profile(variable_splits_type=\"quantiles\").plot(\n",
        "    [exp.model_profile(variable_splits_type=\"quantiles\") for exp in exp_list[1:]],\n",
        "    variables=['SmartScreen__AVProductsInstalled', 'AVProductStatesIdentifier', 'EngineVersion', 'AVProductsInstalled__SmartScreen', 'AppVersion'],\n",
        "    title=\"Partial Dependence\"\n",
        ")"
      ],
      "metadata": {
        "id": "GU5kpiNQpErI"
      },
      "execution_count": null,
      "outputs": []
    },
    {
      "cell_type": "code",
      "source": [
        "new_observations = explainer.data.iloc[0:10,]\n",
        "pd.DataFrame({exp.label: exp.predict(new_observations) for exp in exp_list})"
      ],
      "metadata": {
        "id": "ebE9Z9rqrIX2"
      },
      "execution_count": null,
      "outputs": []
    },
    {
      "cell_type": "markdown",
      "source": [
        "***Breakdown***"
      ],
      "metadata": {
        "id": "2Yml9iB8s_-b"
      }
    },
    {
      "cell_type": "code",
      "source": [
        "configure_plotly_browser_state()\n",
        "init_notebook_mode(connected=False)\n",
        "new_observation = explainer.data.iloc[[9]]\n",
        "exp_list[0].predict_parts(new_observation, label=exp_list[0].label).plot(\n",
        "    [exp.predict_parts(new_observation, label=exp.label) for exp in exp_list[1:]],\n",
        "    min_max=[0, 1]\n",
        ")"
      ],
      "metadata": {
        "id": "HdKA2RGesuSi"
      },
      "execution_count": null,
      "outputs": []
    },
    {
      "cell_type": "code",
      "source": [
        "trainDf1.dtypes"
      ],
      "metadata": {
        "id": "6hTdyNpN0pDn"
      },
      "execution_count": null,
      "outputs": []
    },
    {
      "cell_type": "markdown",
      "source": [
        "***Ceteris Paribas***"
      ],
      "metadata": {
        "id": "zMYF-h9CtGVe"
      }
    },
    {
      "cell_type": "code",
      "source": [
        "configure_plotly_browser_state()\n",
        "init_notebook_mode(connected=False)\n",
        "new_observation = explainer.data.iloc[[9]]\n",
        "exp_list[0].predict_profile(new_observation, variable_splits_type=\"quantiles\", label=exp_list[0].label).plot(\n",
        "    [exp.predict_profile(new_observation, variable_splits_type=\"quantiles\", label=exp.label) for exp in exp_list[1:]],\n",
        "    variables=[ 'AVProductStatesIdentifier', 'EngineVersion', 'AVProductsInstalled__SmartScreen', 'AppVersion']\n",
        ")"
      ],
      "metadata": {
        "id": "8cSEDwX7tCjE"
      },
      "execution_count": null,
      "outputs": []
    },
    {
      "cell_type": "code",
      "source": [
        "pip install --force-reinstall package_with_metadata_issue"
      ],
      "metadata": {
        "id": "soqzX2yY7iU8"
      },
      "execution_count": null,
      "outputs": []
    },
    {
      "cell_type": "markdown",
      "source": [
        "***LIME***"
      ],
      "metadata": {
        "id": "BFMko6QUtUzj"
      }
    },
    {
      "cell_type": "code",
      "source": [
        "configure_plotly_browser_state()\n",
        "init_notebook_mode(connected=False)\n",
        "new_observation = explainer.data.iloc[[9]]\n",
        "for exp in exp_list:\n",
        "    exp.predict_surrogate(new_observation).plot()"
      ],
      "metadata": {
        "id": "bSaH65cvtQrQ"
      },
      "execution_count": null,
      "outputs": []
    },
    {
      "cell_type": "code",
      "source": [
        "# Generate SHAP plot \n",
        "configure_plotly_browser_state()\n",
        "init_notebook_mode(connected=False)\n",
        "configure_plotly_browser_state()\n",
        "init_notebook_mode(connected=False)\n",
        "new_observation = explainer.data.iloc[[9]]\n",
        "for exp in exp_list:\n",
        "    exp.predict_parts(new_observation,type=\"shap\").plot(min_max=[0,1],max_vars=70)\n"
      ],
      "metadata": {
        "id": "S6QjY2PZeASt"
      },
      "execution_count": null,
      "outputs": []
    },
    {
      "cell_type": "code",
      "source": [
        "pip install shapash"
      ],
      "metadata": {
        "id": "ZDnl7PAd_nqJ"
      },
      "execution_count": null,
      "outputs": []
    },
    {
      "cell_type": "code",
      "source": [
        "from shapash import SmartExplainer\n",
        "xpl = SmartExplainer(\n",
        "  model=model1)\n",
        " "
      ],
      "metadata": {
        "id": "30lROerDDp_U"
      },
      "execution_count": null,
      "outputs": []
    },
    {
      "cell_type": "code",
      "source": [
        "xpl.compile(\n",
        "    x=X_val    \n",
        "  \n",
        ")"
      ],
      "metadata": {
        "id": "9grpQYidEllB"
      },
      "execution_count": null,
      "outputs": []
    },
    {
      "cell_type": "code",
      "source": [
        "configure_plotly_browser_state()\n",
        "init_notebook_mode(connected=False)\n",
        "xpl.plot.features_importance()"
      ],
      "metadata": {
        "id": "jJ81m2TFFmv0"
      },
      "execution_count": null,
      "outputs": []
    },
    {
      "cell_type": "code",
      "source": [
        "configure_plotly_browser_state()\n",
        "init_notebook_mode(connected=False)\n",
        "xpl.plot.contribution_plot('SmartScreen__AVProductsInstalled')"
      ],
      "metadata": {
        "id": "96tPbxrJF0HS"
      },
      "execution_count": null,
      "outputs": []
    },
    {
      "cell_type": "code",
      "source": [
        "configure_plotly_browser_state()\n",
        "init_notebook_mode(connected=False)\n",
        "xpl.plot.local_plot(X_val.index[50])"
      ],
      "metadata": {
        "id": "PkQVlzk6GNYi"
      },
      "execution_count": null,
      "outputs": []
    },
    {
      "cell_type": "code",
      "source": [
        "configure_plotly_browser_state()\n",
        "init_notebook_mode(connected=False)\n",
        "# compare plot \n",
        "xpl.plot.compare_plot(index=[X_val.index[50], X_val.index[51]])"
      ],
      "metadata": {
        "id": "aT-o-8rYHTTr"
      },
      "execution_count": null,
      "outputs": []
    },
    {
      "cell_type": "code",
      "source": [
        "configure_plotly_browser_state()\n",
        "init_notebook_mode(connected=False)\n",
        "# Interactive interactions widget \n",
        "xpl.plot.top_interactions_plot(nb_top_interactions=3)"
      ],
      "metadata": {
        "id": "oThQD--_HjYU"
      },
      "execution_count": null,
      "outputs": []
    },
    {
      "cell_type": "code",
      "source": [
        "from shapash import SmartExplainer\n",
        "xpl = SmartExplainer(\n",
        "  model=model2)\n",
        " "
      ],
      "metadata": {
        "id": "wBJVnBxrIZLW"
      },
      "execution_count": null,
      "outputs": []
    },
    {
      "cell_type": "code",
      "source": [
        "xpl.compile(\n",
        "    x=X_val    \n",
        "  \n",
        ")"
      ],
      "metadata": {
        "id": "-wopL_7-IZLW"
      },
      "execution_count": null,
      "outputs": []
    },
    {
      "cell_type": "code",
      "source": [
        "configure_plotly_browser_state()\n",
        "init_notebook_mode(connected=False)\n",
        "xpl.plot.features_importance()"
      ],
      "metadata": {
        "id": "XEwRzKpVIZLW"
      },
      "execution_count": null,
      "outputs": []
    },
    {
      "cell_type": "code",
      "source": [
        "configure_plotly_browser_state()\n",
        "init_notebook_mode(connected=False)\n",
        "xpl.plot.contribution_plot('SmartScreen__AVProductsInstalled')"
      ],
      "metadata": {
        "id": "Tzt-Q-PyIZLW"
      },
      "execution_count": null,
      "outputs": []
    },
    {
      "cell_type": "code",
      "source": [
        "configure_plotly_browser_state()\n",
        "init_notebook_mode(connected=False)\n",
        "xpl.plot.local_plot(X_val.index[50])"
      ],
      "metadata": {
        "id": "needeMLpIZLW"
      },
      "execution_count": null,
      "outputs": []
    },
    {
      "cell_type": "code",
      "source": [
        "configure_plotly_browser_state()\n",
        "init_notebook_mode(connected=False)\n",
        "# compare plot \n",
        "xpl.plot.compare_plot(index=[X_val.index[50], X_val.index[51]])"
      ],
      "metadata": {
        "id": "nKlwCJVGIZLX"
      },
      "execution_count": null,
      "outputs": []
    },
    {
      "cell_type": "code",
      "source": [
        "configure_plotly_browser_state()\n",
        "init_notebook_mode(connected=False)\n",
        "# Interactive interactions widget \n",
        "xpl.plot.top_interactions_plot(nb_top_interactions=3)"
      ],
      "metadata": {
        "id": "H-Y3-qQsIZLX"
      },
      "execution_count": null,
      "outputs": []
    },
    {
      "cell_type": "code",
      "source": [
        "from shapash import SmartExplainer\n",
        "xpl = SmartExplainer(\n",
        "  model=model3)\n",
        " "
      ],
      "metadata": {
        "id": "bM5GIEALJASr"
      },
      "execution_count": null,
      "outputs": []
    },
    {
      "cell_type": "code",
      "source": [
        "xpl.compile(\n",
        "    x=X_val    \n",
        "  \n",
        ")"
      ],
      "metadata": {
        "id": "SR3B1qnNJASr"
      },
      "execution_count": null,
      "outputs": []
    },
    {
      "cell_type": "code",
      "source": [
        "configure_plotly_browser_state()\n",
        "init_notebook_mode(connected=False)\n",
        "xpl.plot.features_importance()"
      ],
      "metadata": {
        "id": "2vm2nElyJASr"
      },
      "execution_count": null,
      "outputs": []
    },
    {
      "cell_type": "code",
      "source": [
        "configure_plotly_browser_state()\n",
        "init_notebook_mode(connected=False)\n",
        "xpl.plot.contribution_plot('AppVersion')"
      ],
      "metadata": {
        "id": "XdZWZK6bJASr"
      },
      "execution_count": null,
      "outputs": []
    },
    {
      "cell_type": "code",
      "source": [
        "configure_plotly_browser_state()\n",
        "init_notebook_mode(connected=False)\n",
        "xpl.plot.local_plot(X_val.index[50])"
      ],
      "metadata": {
        "id": "dLk67ggfJASs"
      },
      "execution_count": null,
      "outputs": []
    },
    {
      "cell_type": "code",
      "source": [
        "configure_plotly_browser_state()\n",
        "init_notebook_mode(connected=False)\n",
        "# compare plot \n",
        "xpl.plot.compare_plot(index=[X_val.index[50], X_val.index[51]])"
      ],
      "metadata": {
        "id": "gzI-JCqCJASs"
      },
      "execution_count": null,
      "outputs": []
    },
    {
      "cell_type": "code",
      "source": [
        "configure_plotly_browser_state()\n",
        "init_notebook_mode(connected=False)\n",
        "# Interactive interactions widget \n",
        "xpl.plot.top_interactions_plot(nb_top_interactions=3)"
      ],
      "metadata": {
        "id": "DSaZbUniJASs"
      },
      "execution_count": null,
      "outputs": []
    },
    {
      "cell_type": "code",
      "source": [
        "from shapash import SmartExplainer\n",
        "xpl = SmartExplainer(\n",
        "  model=model7)\n",
        " "
      ],
      "metadata": {
        "id": "LSBJH3w9KNNT"
      },
      "execution_count": null,
      "outputs": []
    },
    {
      "cell_type": "code",
      "source": [
        "xpl.compile(\n",
        "    x=X_val    \n",
        "  \n",
        ")"
      ],
      "metadata": {
        "id": "5M3HidJWKNNU"
      },
      "execution_count": null,
      "outputs": []
    },
    {
      "cell_type": "code",
      "source": [
        "configure_plotly_browser_state()\n",
        "init_notebook_mode(connected=False)\n",
        "xpl.plot.features_importance()"
      ],
      "metadata": {
        "id": "Bu3E74GfKNNU"
      },
      "execution_count": null,
      "outputs": []
    },
    {
      "cell_type": "code",
      "source": [
        "configure_plotly_browser_state()\n",
        "init_notebook_mode(connected=False)\n",
        "xpl.plot.contribution_plot('CountryIdentifier')"
      ],
      "metadata": {
        "id": "um6RENTYKNNU"
      },
      "execution_count": null,
      "outputs": []
    },
    {
      "cell_type": "code",
      "source": [
        "configure_plotly_browser_state()\n",
        "init_notebook_mode(connected=False)\n",
        "xpl.plot.local_plot(X_val.index[50])"
      ],
      "metadata": {
        "id": "kwBmIn3PKNNU"
      },
      "execution_count": null,
      "outputs": []
    },
    {
      "cell_type": "code",
      "source": [
        "configure_plotly_browser_state()\n",
        "init_notebook_mode(connected=False)\n",
        "# compare plot \n",
        "xpl.plot.compare_plot(index=[X_val.index[50], X_val.index[51]])"
      ],
      "metadata": {
        "id": "3H_uy89hKNNU"
      },
      "execution_count": null,
      "outputs": []
    },
    {
      "cell_type": "code",
      "source": [
        "configure_plotly_browser_state()\n",
        "init_notebook_mode(connected=False)\n",
        "# Interactive interactions widget \n",
        "xpl.plot.top_interactions_plot(nb_top_interactions=3)"
      ],
      "metadata": {
        "id": "_scciu__KNNU"
      },
      "execution_count": null,
      "outputs": []
    },
    {
      "cell_type": "code",
      "source": [
        "from shapash import SmartExplainer\n",
        "xpl = SmartExplainer(\n",
        "  model=model6)\n",
        " "
      ],
      "metadata": {
        "id": "Q1DUXh0sOQEC"
      },
      "execution_count": null,
      "outputs": []
    },
    {
      "cell_type": "code",
      "source": [
        "pip install lime"
      ],
      "metadata": {
        "id": "4euGzs8xO7p9"
      },
      "execution_count": null,
      "outputs": []
    },
    {
      "cell_type": "code",
      "source": [
        "test_1 = X_val.iloc[50]"
      ],
      "metadata": {
        "id": "F8EYcMKAPLK-"
      },
      "execution_count": null,
      "outputs": []
    },
    {
      "cell_type": "code",
      "source": [
        "train_x = X_trainDf.values\n",
        "train_y = Y_trainDf.values"
      ],
      "metadata": {
        "id": "D-IlsFcwdGtu"
      },
      "execution_count": null,
      "outputs": []
    },
    {
      "cell_type": "code",
      "source": [
        "model3.fit(train_x, train_y)"
      ],
      "metadata": {
        "id": "aVheOmVQdWWF"
      },
      "execution_count": null,
      "outputs": []
    },
    {
      "cell_type": "code",
      "source": [
        "\n",
        "# Import the LimeTabularExplainer module\n",
        "from lime.lime_tabular import LimeTabularExplainer"
      ],
      "metadata": {
        "id": "1HJZuw5kfQYZ"
      },
      "execution_count": null,
      "outputs": []
    },
    {
      "cell_type": "code",
      "source": [
        "# Get the feature names\n",
        "feature_names = list(X_trainDf.columns)\n",
        "# Get the class names\n",
        "class_names = ['Infected', 'Healthy']\n",
        "# Fit the Explainer on the training data set using the LimeTabularExplainer \n",
        "explainer = LimeTabularExplainer(X_trainDf.values, feature_names = feature_names, \n",
        "                                 class_names = class_names, mode = 'classification')"
      ],
      "metadata": {
        "id": "j_t2rIKieIjM"
      },
      "execution_count": null,
      "outputs": []
    },
    {
      "cell_type": "code",
      "source": [
        "#Perform the explanation on the 8th instance in the test data\n",
        "explaination = explainer.explain_instance(X_val.iloc[50], model1.predict_proba)\n",
        "\n",
        "# show the result of the model's explaination\n",
        "explaination.show_in_notebook(show_table = True, show_all = False)"
      ],
      "metadata": {
        "id": "o8vzqw5sfwy4"
      },
      "execution_count": null,
      "outputs": []
    },
    {
      "cell_type": "code",
      "source": [
        "#Perform the explanation on the 8th instance in the test data\n",
        "explaination = explainer.explain_instance(X_val.iloc[50], model2.predict_proba)\n",
        "\n",
        "# show the result of the model's explaination\n",
        "explaination.show_in_notebook(show_table = True, show_all = False)"
      ],
      "metadata": {
        "id": "0MAU-ZTLf45f"
      },
      "execution_count": null,
      "outputs": []
    },
    {
      "cell_type": "code",
      "source": [
        "import lime \n",
        "from lime import lime_tabular\n",
        "\n",
        "lime_explainer = lime_tabular.LimeTabularExplainer(\n",
        "    training_data=np.array(train_x),\n",
        "    feature_names = model3.get_booster().feature_names,\n",
        "    class_names=['Infected', 'Healthy'],\n",
        "    mode='classification'\n",
        ")\n",
        "\n",
        "\n",
        "lime_exp = lime_explainer.explain_instance(\n",
        "    data_row=test_1,\n",
        "    predict_fn=model3.predict_proba\n",
        ")\n",
        "lime_exp.show_in_notebook(show_table=True)"
      ],
      "metadata": {
        "id": "P9srJjEjO6lD"
      },
      "execution_count": null,
      "outputs": []
    },
    {
      "cell_type": "code",
      "source": [
        "#Perform the explanation on the 8th instance in the test data\n",
        "explaination = explainer.explain_instance(X_val.iloc[50], model7.predict_proba)\n",
        "\n",
        "# show the result of the model's explaination\n",
        "explaination.show_in_notebook(show_table = True, show_all = False)"
      ],
      "metadata": {
        "id": "1toaTAdnf_N3"
      },
      "execution_count": null,
      "outputs": []
    },
    {
      "cell_type": "code",
      "source": [
        "#Perform the explanation on the 8th instance in the test data\n",
        "explaination = explainer.explain_instance(X_val.iloc[50], model6.predict_proba)\n",
        "\n",
        "# show the result of the model's explaination\n",
        "explaination.show_in_notebook(show_table = True, show_all = False)"
      ],
      "metadata": {
        "id": "Q8QfIQ4if_xv"
      },
      "execution_count": null,
      "outputs": []
    }
  ],
  "metadata": {
    "accelerator": "TPU",
    "colab": {
      "background_execution": "on",
      "collapsed_sections": [],
      "machine_shape": "hm",
      "provenance": []
    },
    "gpuClass": "standard",
    "kernelspec": {
      "display_name": "Python 3",
      "language": "python",
      "name": "python3"
    },
    "language_info": {
      "codemirror_mode": {
        "name": "ipython",
        "version": 3
      },
      "file_extension": ".py",
      "mimetype": "text/x-python",
      "name": "python",
      "nbconvert_exporter": "python",
      "pygments_lexer": "ipython3",
      "version": "3.6.6"
    }
  },
  "nbformat": 4,
  "nbformat_minor": 0
}